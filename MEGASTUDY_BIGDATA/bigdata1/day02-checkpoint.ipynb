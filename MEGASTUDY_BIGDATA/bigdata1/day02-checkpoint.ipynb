{
 "cells": [
  {
   "cell_type": "markdown",
   "id": "e18ac799",
   "metadata": {},
   "source": []
  },
  {
   "cell_type": "code",
   "execution_count": 7,
   "id": "d9202c4e",
   "metadata": {},
   "outputs": [],
   "source": [
    "#인스턴스 변수: self 사용\n",
    "class Person:\n",
    "    def who_am_i(self, name, age, tel, address):\n",
    "        self.name = name\n",
    "        self.age = age\n",
    "        self.tel = tel\n",
    "        self.address = address\n",
    "        \n",
    "    def greet(self):\n",
    "        print(f'Hello!. My name is {self.name}')"
   ]
  },
  {
   "cell_type": "code",
   "execution_count": 8,
   "id": "559b8f94",
   "metadata": {},
   "outputs": [
    {
     "name": "stdout",
     "output_type": "stream",
     "text": [
      "Hello!. My name is john\n"
     ]
    }
   ],
   "source": [
    "person = Person()\n",
    "person.who_am_i('john',15,'123-1234', 'seoul')\n",
    "person.greet()\n"
   ]
  },
  {
   "cell_type": "code",
   "execution_count": 3,
   "id": "ddebc793",
   "metadata": {},
   "outputs": [],
   "source": [
    "class Person:\n",
    "    def __init__(self, name, age, tel, address): # 자동 호출 매직메소드\n",
    "        self.name = name\n",
    "        self.age = age\n",
    "        self.tel = tel\n",
    "        self.address = address\n",
    "        \n",
    "    def greet(self):\n",
    "        print(f'Hello!. My name is {self.name}')"
   ]
  },
  {
   "cell_type": "code",
   "execution_count": 6,
   "id": "68455e7b",
   "metadata": {},
   "outputs": [
    {
     "name": "stdout",
     "output_type": "stream",
     "text": [
      "Hello!. My name is john\n"
     ]
    },
    {
     "data": {
      "text/plain": [
       "{'name': 'john', 'age': 15, 'tel': '123-1234', 'address': 'seoul'}"
      ]
     },
     "execution_count": 6,
     "metadata": {},
     "output_type": "execute_result"
    }
   ],
   "source": [
    "person = Person('john',15,'123-1234', 'seoul')\n",
    "\n",
    "person.greet()\n",
    "\n",
    "person.__dict__"
   ]
  },
  {
   "cell_type": "code",
   "execution_count": 9,
   "id": "efed5e0a",
   "metadata": {},
   "outputs": [],
   "source": [
    "person2 = Person()"
   ]
  },
  {
   "cell_type": "code",
   "execution_count": 10,
   "id": "d57d2b27",
   "metadata": {},
   "outputs": [
    {
     "data": {
      "text/plain": [
       "{}"
      ]
     },
     "execution_count": 10,
     "metadata": {},
     "output_type": "execute_result"
    }
   ],
   "source": [
    "person2.__dict__"
   ]
  },
  {
   "cell_type": "code",
   "execution_count": 13,
   "id": "d3fff81b",
   "metadata": {},
   "outputs": [],
   "source": [
    "class Korean:\n",
    "    country = \"한국\" #클래스변수\n",
    "    \n",
    "    def __init__(self,name,age,address):\n",
    "        self.name = name #인스턴스 변수\n",
    "        self.age = age\n",
    "        self.address = address\n",
    "    \n",
    "    @classmethod\n",
    "    def trip(cls,country): #클래스 변수를 활용하는 메소드\n",
    "        if cls.country == country:\n",
    "            print(\"국내여행\")\n",
    "        else:\n",
    "            print(\"해외여행\")\n",
    "    "
   ]
  },
  {
   "cell_type": "code",
   "execution_count": 19,
   "id": "197c7ec6",
   "metadata": {},
   "outputs": [
    {
     "name": "stdout",
     "output_type": "stream",
     "text": [
      "홍길동\n",
      "한국\n",
      "한국\n",
      "--------------\n",
      "국내여행\n",
      "해외여행\n"
     ]
    }
   ],
   "source": [
    "man = Korean(\"홍길동\", 35, '서울')\n",
    "print(man.name)\n",
    "#print(Korean.name)\n",
    "print(man.country)\n",
    "print(Korean.country)\n",
    "print(\"--------------\")\n",
    "Korean.trip('한국')\n",
    "man.trip(\"미국\")"
   ]
  },
  {
   "cell_type": "code",
   "execution_count": 20,
   "id": "88a70624",
   "metadata": {},
   "outputs": [
    {
     "name": "stdout",
     "output_type": "stream",
     "text": [
      "국내여행\n",
      "해외여행\n"
     ]
    }
   ],
   "source": [
    "Korean.trip('한국')\n",
    "man.trip(\"미국\")"
   ]
  },
  {
   "cell_type": "code",
   "execution_count": 21,
   "id": "30057966",
   "metadata": {},
   "outputs": [],
   "source": [
    "class Person:\n",
    "    def __init__(self,name):\n",
    "        self.name = name\n",
    "    def eat(self, food):\n",
    "        print(f'{self.name}가 {food}를 먹습니다')\n",
    "\n",
    "class Student(Person):\n",
    "    def __init__(self, name, school):\n",
    "        super().__init__(name)\n",
    "        self.school = school\n",
    "        \n",
    "    def study(self):\n",
    "        print(f'{self.name}은 {self.school}에서 공부합니다.')"
   ]
  },
  {
   "cell_type": "code",
   "execution_count": 23,
   "id": "f700bad9",
   "metadata": {},
   "outputs": [
    {
     "name": "stdout",
     "output_type": "stream",
     "text": [
      "홍길동가 감자를 먹습니다\n",
      "홍길동은 성균관에서 공부합니다.\n"
     ]
    }
   ],
   "source": [
    "gildong = Student('홍길동', '성균관')\n",
    "gildong.eat('감자')\n",
    "gildong.study()"
   ]
  },
  {
   "cell_type": "code",
   "execution_count": 24,
   "id": "4b8a816d",
   "metadata": {},
   "outputs": [],
   "source": [
    "class Person:\n",
    "    def __init__(self,name):\n",
    "        self.name = name\n",
    "    \n",
    "    def eat(self, food):\n",
    "        print(f'{self.name}가 {food}를 먹습니다')\n",
    "\n",
    "class Student(Person):\n",
    "    def __init__(self, name, school):\n",
    "        super().__init__(name)\n",
    "        self.school = school\n",
    "        \n",
    "    def study(self):\n",
    "        print(f'{self.name}은 {self.school}에서 공부합니다.')\n",
    "    \n",
    "    def eat(self, food):\n",
    "        print(f'{self.name}가 {self.school}에서 {food}를 먹습니다')"
   ]
  },
  {
   "cell_type": "code",
   "execution_count": 26,
   "id": "4a487a32",
   "metadata": {},
   "outputs": [
    {
     "name": "stdout",
     "output_type": "stream",
     "text": [
      "{'name': '홍길동', 'school': '성균관'}\n",
      "홍길동가 성균관에서 감자를 먹습니다\n",
      "홍길동은 성균관에서 공부합니다.\n"
     ]
    }
   ],
   "source": [
    "gildong = Student('홍길동', '성균관')\n",
    "print(gildong.__dict__)\n",
    "gildong.eat('감자')\n",
    "gildong.study()"
   ]
  },
  {
   "cell_type": "code",
   "execution_count": null,
   "id": "eb66537f",
   "metadata": {},
   "outputs": [],
   "source": []
  }
 ],
 "metadata": {
  "kernelspec": {
   "display_name": "Python 3 (ipykernel)",
   "language": "python",
   "name": "python3"
  },
  "language_info": {
   "codemirror_mode": {
    "name": "ipython",
    "version": 3
   },
   "file_extension": ".py",
   "mimetype": "text/x-python",
   "name": "python",
   "nbconvert_exporter": "python",
   "pygments_lexer": "ipython3",
   "version": "3.9.7"
  }
 },
 "nbformat": 4,
 "nbformat_minor": 5
}
